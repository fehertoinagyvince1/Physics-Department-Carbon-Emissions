{
 "cells": [
  {
   "cell_type": "code",
   "execution_count": 1,
   "metadata": {},
   "outputs": [],
   "source": [
    "#Importing neccessary modules\n",
    "\n",
    "import pandas as pd\n",
    "import matplotlib.pyplot as plt\n",
    "import numpy as np\n"
   ]
  },
  {
   "cell_type": "code",
   "execution_count": 8,
   "metadata": {},
   "outputs": [],
   "source": [
    "#Loading Data into a Pandas Data Frames\n",
    "\n",
    "Data_file_path = r\"C:\\Users\\feher\\OneDrive - Imperial College London\\UROP 2023\\Copy of 230509 Huxley & Blackett Data V1.0.xlsx\"\n",
    "\n",
    "Blackett_heating_data = pd.read_excel(Data_file_path, sheet_name= 'BLKT(h)')\n",
    "Blackett_electricity_data = pd.read_excel(Data_file_path, sheet_name= 'BLKT(e)')\n",
    "Huxley_heating_data = pd.read_excel(Data_file_path, sheet_name= 'HXLY(h)')\n",
    "HUxley_electricity_data = pd.read_excel(Data_file_path, sheet_name= 'HXLY(e)')\n"
   ]
  },
  {
   "cell_type": "code",
   "execution_count": null,
   "metadata": {},
   "outputs": [],
   "source": [
    "#Filtering the data\n",
    "#I will initially just plot every value of data in the data frame and examine the outliers\n"
   ]
  },
  {
   "cell_type": "code",
   "execution_count": 11,
   "metadata": {},
   "outputs": [
    {
     "name": "stderr",
     "output_type": "stream",
     "text": [
      "C:\\Users\\feher\\AppData\\Local\\Temp/ipykernel_30848/1178581762.py:3: FutureWarning: Dropping of nuisance columns in DataFrame reductions (with 'numeric_only=None') is deprecated; in a future version this will raise TypeError.  Select only valid columns before calling the reduction.\n",
      "  B_h_d_daily_sum = Blackett_heating_data.sum(axis = 1)\n"
     ]
    }
   ],
   "source": [
    "#Initially, I will add the values of energy consumed in a whole day, and examine how this varies during the year\n",
    "\n",
    "B_h_d_daily_sum = Blackett_heating_data.sum(axis = 1)"
   ]
  },
  {
   "cell_type": "code",
   "execution_count": null,
   "metadata": {},
   "outputs": [],
   "source": []
  }
 ],
 "metadata": {
  "kernelspec": {
   "display_name": "base",
   "language": "python",
   "name": "python3"
  },
  "language_info": {
   "codemirror_mode": {
    "name": "ipython",
    "version": 3
   },
   "file_extension": ".py",
   "mimetype": "text/x-python",
   "name": "python",
   "nbconvert_exporter": "python",
   "pygments_lexer": "ipython3",
   "version": "3.9.7"
  },
  "orig_nbformat": 4
 },
 "nbformat": 4,
 "nbformat_minor": 2
}
