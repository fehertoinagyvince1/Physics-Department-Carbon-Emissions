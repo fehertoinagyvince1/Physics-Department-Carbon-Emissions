{
 "cells": [
  {
   "cell_type": "code",
   "execution_count": 1,
   "metadata": {},
   "outputs": [],
   "source": [
    "#Importing neccessary modules\n",
    "\n",
    "import pandas as pd\n",
    "import matplotlib.pyplot as plt\n",
    "import numpy as np\n"
   ]
  },
  {
   "cell_type": "code",
   "execution_count": 3,
   "metadata": {},
   "outputs": [],
   "source": [
    "#Loading Data into a Pandas Data Frames\n",
    "\n",
    "Data_file_path = r\"C:\\Users\\feher\\OneDrive - Imperial College London\\UROP 2023\\Copy of 230509 Huxley & Blackett Data V1.0.xlsx\"\n",
    "\n",
    "Blackett_heating_data = pd.read_excel(Data_file_path, sheet_name= 'BLKT(h)')\n",
    "Blackett_electricity_data = pd.read_excel(Data_file_path, sheet_name= 'BLKT(e)')\n",
    "Huxley_heating_data = pd.read_excel(Data_file_path, sheet_name= 'HXLY(h)')\n",
    "Huxley_electricity_data = pd.read_excel(Data_file_path, sheet_name= 'HXLY(e)')\n",
    "\n",
    "\n",
    "\n",
    "def set_first_row_as_labels(df):\n",
    "    # Extract the first row as the labels\n",
    "    labels = df.iloc[0]\n",
    "\n",
    "    # Set the labels as the new index\n",
    "    df = df[1:]   \n",
    "    df.columns = labels\n",
    "    df = df.drop(['Site Group', 'Site', 'Monitoring Point', 'Type', 'Unit of Measurement', 'Date'], axis = 1)\n",
    "    return df\n",
    "\n",
    "Blackett_heating_data = set_first_row_as_labels(Blackett_heating_data)\n",
    "Blackett_electricity_data = set_first_row_as_labels(Blackett_electricity_data)\n",
    "Huxley_heating_data = set_first_row_as_labels(Huxley_heating_data)\n",
    "Huxley_electricity_data = set_first_row_as_labels(Huxley_electricity_data) \n",
    "\n",
    "\n",
    "\n",
    "\n",
    "\n",
    "\n"
   ]
  },
  {
   "cell_type": "code",
   "execution_count": null,
   "metadata": {},
   "outputs": [],
   "source": [
    "#Initially, I will add the values of energy consumed in a whole day, and examine how this varies during the year\n",
    "\n",
    "B_h_d_daily_sum = Blackett_heating_data.sum(axis = 1)"
   ]
  },
  {
   "cell_type": "code",
   "execution_count": null,
   "metadata": {},
   "outputs": [],
   "source": []
  }
 ],
 "metadata": {
  "kernelspec": {
   "display_name": "base",
   "language": "python",
   "name": "python3"
  },
  "language_info": {
   "codemirror_mode": {
    "name": "ipython",
    "version": 3
   },
   "file_extension": ".py",
   "mimetype": "text/x-python",
   "name": "python",
   "nbconvert_exporter": "python",
   "pygments_lexer": "ipython3",
   "version": "3.9.7"
  },
  "orig_nbformat": 4
 },
 "nbformat": 4,
 "nbformat_minor": 2
}
